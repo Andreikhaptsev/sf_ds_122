{
 "cells": [
  {
   "cell_type": "code",
   "execution_count": 5,
   "metadata": {},
   "outputs": [
    {
     "name": "stdout",
     "output_type": "stream",
     "text": [
      "ERROR! Session/line number was not unique in database. History logging moved to new session 3\n"
     ]
    }
   ],
   "source": [
    "import game_2v"
   ]
  },
  {
   "cell_type": "markdown",
   "metadata": {},
   "source": [
    "# Игра угадай число\n"
   ]
  },
  {
   "cell_type": "code",
   "execution_count": 4,
   "metadata": {},
   "outputs": [
    {
     "ename": "KeyboardInterrupt",
     "evalue": "",
     "output_type": "error",
     "traceback": [
      "\u001b[1;31m---------------------------------------------------------------------------\u001b[0m",
      "\u001b[1;31mKeyboardInterrupt\u001b[0m                         Traceback (most recent call last)",
      "File \u001b[1;32m~\\AppData\\Roaming\\Python\\Python310\\site-packages\\IPython\\core\\async_helpers.py:129\u001b[0m, in \u001b[0;36m_pseudo_sync_runner\u001b[1;34m(coro)\u001b[0m\n\u001b[0;32m    121\u001b[0m \u001b[39m\"\"\"\u001b[39;00m\n\u001b[0;32m    122\u001b[0m \u001b[39mA runner that does not really allow async execution, and just advance the coroutine.\u001b[39;00m\n\u001b[0;32m    123\u001b[0m \n\u001b[1;32m   (...)\u001b[0m\n\u001b[0;32m    126\u001b[0m \u001b[39mCredit to Nathaniel Smith\u001b[39;00m\n\u001b[0;32m    127\u001b[0m \u001b[39m\"\"\"\u001b[39;00m\n\u001b[0;32m    128\u001b[0m \u001b[39mtry\u001b[39;00m:\n\u001b[1;32m--> 129\u001b[0m     coro\u001b[39m.\u001b[39;49msend(\u001b[39mNone\u001b[39;49;00m)\n\u001b[0;32m    130\u001b[0m \u001b[39mexcept\u001b[39;00m \u001b[39mStopIteration\u001b[39;00m \u001b[39mas\u001b[39;00m exc:\n\u001b[0;32m    131\u001b[0m     \u001b[39mreturn\u001b[39;00m exc\u001b[39m.\u001b[39mvalue\n",
      "File \u001b[1;32m~\\AppData\\Roaming\\Python\\Python310\\site-packages\\IPython\\core\\interactiveshell.py:3139\u001b[0m, in \u001b[0;36mInteractiveShell.run_cell_async\u001b[1;34m(self, raw_cell, store_history, silent, shell_futures, transformed_cell, preprocessing_exc_tuple, cell_id)\u001b[0m\n\u001b[0;32m   3136\u001b[0m \u001b[39m# Execute the user code\u001b[39;00m\n\u001b[0;32m   3137\u001b[0m interactivity \u001b[39m=\u001b[39m \u001b[39m\"\u001b[39m\u001b[39mnone\u001b[39m\u001b[39m\"\u001b[39m \u001b[39mif\u001b[39;00m silent \u001b[39melse\u001b[39;00m \u001b[39mself\u001b[39m\u001b[39m.\u001b[39mast_node_interactivity\n\u001b[1;32m-> 3139\u001b[0m has_raised \u001b[39m=\u001b[39m \u001b[39mawait\u001b[39;00m \u001b[39mself\u001b[39m\u001b[39m.\u001b[39mrun_ast_nodes(code_ast\u001b[39m.\u001b[39mbody, cell_name,\n\u001b[0;32m   3140\u001b[0m        interactivity\u001b[39m=\u001b[39minteractivity, compiler\u001b[39m=\u001b[39mcompiler, result\u001b[39m=\u001b[39mresult)\n\u001b[0;32m   3142\u001b[0m \u001b[39mself\u001b[39m\u001b[39m.\u001b[39mlast_execution_succeeded \u001b[39m=\u001b[39m \u001b[39mnot\u001b[39;00m has_raised\n\u001b[0;32m   3143\u001b[0m \u001b[39mself\u001b[39m\u001b[39m.\u001b[39mlast_execution_result \u001b[39m=\u001b[39m result\n",
      "File \u001b[1;32m~\\AppData\\Roaming\\Python\\Python310\\site-packages\\IPython\\core\\interactiveshell.py:3139\u001b[0m, in \u001b[0;36mInteractiveShell.run_cell_async\u001b[1;34m(self, raw_cell, store_history, silent, shell_futures, transformed_cell, preprocessing_exc_tuple, cell_id)\u001b[0m\n\u001b[0;32m   3136\u001b[0m \u001b[39m# Execute the user code\u001b[39;00m\n\u001b[0;32m   3137\u001b[0m interactivity \u001b[39m=\u001b[39m \u001b[39m\"\u001b[39m\u001b[39mnone\u001b[39m\u001b[39m\"\u001b[39m \u001b[39mif\u001b[39;00m silent \u001b[39melse\u001b[39;00m \u001b[39mself\u001b[39m\u001b[39m.\u001b[39mast_node_interactivity\n\u001b[1;32m-> 3139\u001b[0m has_raised \u001b[39m=\u001b[39m \u001b[39mawait\u001b[39;00m \u001b[39mself\u001b[39m\u001b[39m.\u001b[39mrun_ast_nodes(code_ast\u001b[39m.\u001b[39mbody, cell_name,\n\u001b[0;32m   3140\u001b[0m        interactivity\u001b[39m=\u001b[39minteractivity, compiler\u001b[39m=\u001b[39mcompiler, result\u001b[39m=\u001b[39mresult)\n\u001b[0;32m   3142\u001b[0m \u001b[39mself\u001b[39m\u001b[39m.\u001b[39mlast_execution_succeeded \u001b[39m=\u001b[39m \u001b[39mnot\u001b[39;00m has_raised\n\u001b[0;32m   3143\u001b[0m \u001b[39mself\u001b[39m\u001b[39m.\u001b[39mlast_execution_result \u001b[39m=\u001b[39m result\n",
      "File \u001b[1;32m_pydevd_bundle/pydevd_cython.pyx:1585\u001b[0m, in \u001b[0;36m_pydevd_bundle.pydevd_cython.trace_dispatch\u001b[1;34m()\u001b[0m\n",
      "File \u001b[1;32m~\\AppData\\Roaming\\Python\\Python310\\site-packages\\debugpy\\_vendored\\pydevd\\pydevd.py:1081\u001b[0m, in \u001b[0;36mPyDB.enable_tracing\u001b[1;34m(self, thread_trace_func, apply_to_all_threads)\u001b[0m\n\u001b[0;32m   1079\u001b[0m \u001b[39mif\u001b[39;00m \u001b[39mself\u001b[39m\u001b[39m.\u001b[39mframe_eval_func \u001b[39mis\u001b[39;00m \u001b[39mnot\u001b[39;00m \u001b[39mNone\u001b[39;00m:\n\u001b[0;32m   1080\u001b[0m     \u001b[39mself\u001b[39m\u001b[39m.\u001b[39mframe_eval_func()\n\u001b[1;32m-> 1081\u001b[0m     pydevd_tracing\u001b[39m.\u001b[39;49mSetTrace(\u001b[39mself\u001b[39;49m\u001b[39m.\u001b[39;49mdummy_trace_dispatch)\n\u001b[0;32m   1083\u001b[0m     \u001b[39mif\u001b[39;00m IS_CPYTHON \u001b[39mand\u001b[39;00m apply_to_all_threads:\n\u001b[0;32m   1084\u001b[0m         pydevd_tracing\u001b[39m.\u001b[39mset_trace_to_threads(\u001b[39mself\u001b[39m\u001b[39m.\u001b[39mdummy_trace_dispatch)\n",
      "File \u001b[1;32m~\\AppData\\Roaming\\Python\\Python310\\site-packages\\debugpy\\_vendored\\pydevd\\pydevd_tracing.py:77\u001b[0m, in \u001b[0;36mSetTrace\u001b[1;34m(tracing_func)\u001b[0m\n\u001b[0;32m     74\u001b[0m _last_tracing_func_thread_local\u001b[39m.\u001b[39mtracing_func \u001b[39m=\u001b[39m tracing_func\n\u001b[0;32m     76\u001b[0m \u001b[39mif\u001b[39;00m tracing_func \u001b[39mis\u001b[39;00m \u001b[39mnot\u001b[39;00m \u001b[39mNone\u001b[39;00m:\n\u001b[1;32m---> 77\u001b[0m     \u001b[39mif\u001b[39;00m set_trace_to_threads(tracing_func, thread_idents\u001b[39m=\u001b[39;49m[thread\u001b[39m.\u001b[39;49mget_ident()], create_dummy_thread\u001b[39m=\u001b[39;49m\u001b[39mFalse\u001b[39;49;00m) \u001b[39m==\u001b[39m \u001b[39m0\u001b[39m:\n\u001b[0;32m     78\u001b[0m         \u001b[39m# If we can use our own tracer instead of the one from sys.settrace, do it (the reason\u001b[39;00m\n\u001b[0;32m     79\u001b[0m         \u001b[39m# is that this is faster than the Python version because we don't call\u001b[39;00m\n\u001b[0;32m     80\u001b[0m         \u001b[39m# PyFrame_FastToLocalsWithError and PyFrame_LocalsToFast at each event!\u001b[39;00m\n\u001b[0;32m     81\u001b[0m         \u001b[39m# (the difference can be huge when checking line events on frames as the\u001b[39;00m\n\u001b[0;32m     82\u001b[0m         \u001b[39m# time increases based on the number of local variables in the scope)\u001b[39;00m\n\u001b[0;32m     83\u001b[0m         \u001b[39m# See: InternalCallTrampoline (on the C side) for details.\u001b[39;00m\n\u001b[0;32m     84\u001b[0m         \u001b[39mreturn\u001b[39;00m\n\u001b[0;32m     86\u001b[0m \u001b[39m# If it didn't work (or if it was None), use the Python version.\u001b[39;00m\n",
      "File \u001b[1;32m~\\AppData\\Roaming\\Python\\Python310\\site-packages\\debugpy\\_vendored\\pydevd\\pydevd_tracing.py:345\u001b[0m, in \u001b[0;36mset_trace_to_threads\u001b[1;34m(tracing_func, thread_idents, create_dummy_thread)\u001b[0m\n\u001b[0;32m    343\u001b[0m start_new_thread \u001b[39m=\u001b[39m pydev_monkey\u001b[39m.\u001b[39mget_original_start_new_thread(thread)\n\u001b[0;32m    344\u001b[0m start_new_thread(increase_tracing_count, ())\n\u001b[1;32m--> 345\u001b[0m proceed\u001b[39m.\u001b[39;49macquire()  \u001b[39m# Only proceed after the release() is done.\u001b[39;00m\n\u001b[0;32m    346\u001b[0m proceed \u001b[39m=\u001b[39m \u001b[39mNone\u001b[39;00m\n\u001b[0;32m    348\u001b[0m \u001b[39m# Note: The set_trace_func is not really used anymore in the C side.\u001b[39;00m\n",
      "\u001b[1;31mKeyboardInterrupt\u001b[0m: "
     ]
    }
   ],
   "source": [
    "from game_2v import score_game\n",
    "from game_2v import random_predict"
   ]
  },
  {
   "cell_type": "code",
   "execution_count": 6,
   "metadata": {},
   "outputs": [
    {
     "name": "stdout",
     "output_type": "stream",
     "text": [
      "В среднем за 484\n"
     ]
    },
    {
     "data": {
      "text/plain": [
       "484"
      ]
     },
     "execution_count": 6,
     "metadata": {},
     "output_type": "execute_result"
    }
   ],
   "source": [
    "game_2v.score_game(game_2v.random_predict)"
   ]
  },
  {
   "cell_type": "code",
   "execution_count": 7,
   "metadata": {},
   "outputs": [
    {
     "name": "stdout",
     "output_type": "stream",
     "text": [
      "В среднем за 484\n"
     ]
    },
    {
     "data": {
      "text/plain": [
       "484"
      ]
     },
     "execution_count": 7,
     "metadata": {},
     "output_type": "execute_result"
    }
   ],
   "source": [
    "from game_2v import score_game\n",
    "from game_2v import random_predict\n",
    "score_game(random_predict)"
   ]
  },
  {
   "cell_type": "code",
   "execution_count": 8,
   "metadata": {},
   "outputs": [],
   "source": [
    "from game_2v import score_game, random_predict"
   ]
  },
  {
   "cell_type": "code",
   "execution_count": null,
   "metadata": {},
   "outputs": [],
   "source": [
    "n = 10\n",
    "z = n\n",
    "n = 5"
   ]
  }
 ],
 "metadata": {
  "kernelspec": {
   "display_name": "Python 3.10.7 64-bit",
   "language": "python",
   "name": "python3"
  },
  "language_info": {
   "codemirror_mode": {
    "name": "ipython",
    "version": 3
   },
   "file_extension": ".py",
   "mimetype": "text/x-python",
   "name": "python",
   "nbconvert_exporter": "python",
   "pygments_lexer": "ipython3",
   "version": "3.10.7"
  },
  "orig_nbformat": 4,
  "vscode": {
   "interpreter": {
    "hash": "70e6f76513a8923b301321f1cbaf21bcf0f30e045ceee1b29f5976b6836f9c4a"
   }
  }
 },
 "nbformat": 4,
 "nbformat_minor": 2
}
